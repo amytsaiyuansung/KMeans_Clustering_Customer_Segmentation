{
 "cells": [
  {
   "cell_type": "code",
   "execution_count": 1,
   "metadata": {},
   "outputs": [],
   "source": [
    "import pandas as pd\n",
    "import numpy as np\n",
    "\n",
    "import matplotlib.pyplot as plt\n",
    "import seaborn as sns\n",
    "\n",
    "import warnings\n",
    "warnings.filterwarnings(\"ignore\")"
   ]
  },
  {
   "cell_type": "code",
   "execution_count": 2,
   "metadata": {},
   "outputs": [],
   "source": [
    "transactions = pd.read_csv('transaction_table.csv')\n",
    "pd.set_option('display.float_format', lambda x: '%.0f' % x)\n",
    "\n",
    "transactions.head()"
   ]
  },
  {
   "cell_type": "code",
   "execution_count": 3,
   "metadata": {},
   "outputs": [],
   "source": [
    "product = pd.read_csv('product_table.csv')"
   ]
  },
  {
   "cell_type": "code",
   "execution_count": 4,
   "metadata": {},
   "outputs": [],
   "source": [
    "transactions['tran_dt'] = pd.to_datetime(transactions['tran_dt'])\n",
    "transactions['weekday'] = transactions['tran_dt'].dt.dayofweek\n",
    "transactions['weekend'] = transactions.weekday.apply(lambda x: 0 if x <= 5 else 1)"
   ]
  },
  {
   "cell_type": "code",
   "execution_count": 5,
   "metadata": {},
   "outputs": [],
   "source": [
    "# may add store_id\n",
    "transactions['tran'] = transactions['tran_dt'].astype('str').str.cat(transactions['cust_id'].astype('str'),sep=\"_\")\n",
    "transactions['tran'] = transactions['tran'].str.cat(transactions['store_id'].astype('str'),sep=\"_\")"
   ]
  },
  {
   "cell_type": "markdown",
   "metadata": {},
   "source": [
    "## Customers"
   ]
  },
  {
   "cell_type": "markdown",
   "metadata": {},
   "source": [
    "## - revenues, transactions"
   ]
  },
  {
   "cell_type": "code",
   "execution_count": 9,
   "metadata": {},
   "outputs": [],
   "source": [
    "# Total amount paid per customer\n",
    "cust_pf = transactions.groupby(['cust_id']).tran_prod_paid_amt.sum().sort_values(ascending = False).to_frame().reset_index()"
   ]
  },
  {
   "cell_type": "code",
   "execution_count": 10,
   "metadata": {},
   "outputs": [
    {
     "data": {
      "text/plain": [
       "(array([  3.,   6.,  11.,  70., 240., 387., 463., 503., 495., 508., 479.,\n",
       "        460., 444., 382., 375., 348., 319., 278., 263., 230., 222., 195.,\n",
       "        212., 141., 158., 122., 131., 127.,  96.,  75.,  64.,  54.,  32.,\n",
       "         17.,   7.,   3.]),\n",
       " array([ 3867.1       ,  4149.11694444,  4431.13388889,  4713.15083333,\n",
       "         4995.16777778,  5277.18472222,  5559.20166667,  5841.21861111,\n",
       "         6123.23555556,  6405.2525    ,  6687.26944444,  6969.28638889,\n",
       "         7251.30333333,  7533.32027778,  7815.33722222,  8097.35416667,\n",
       "         8379.37111111,  8661.38805556,  8943.405     ,  9225.42194444,\n",
       "         9507.43888889,  9789.45583333, 10071.47277778, 10353.48972222,\n",
       "        10635.50666667, 10917.52361111, 11199.54055556, 11481.5575    ,\n",
       "        11763.57444444, 12045.59138889, 12327.60833333, 12609.62527778,\n",
       "        12891.64222222, 13173.65916667, 13455.67611111, 13737.69305556,\n",
       "        14019.71      ]),\n",
       " <a list of 36 Patch objects>)"
      ]
     },
     "execution_count": 10,
     "metadata": {},
     "output_type": "execute_result"
    },
    {
     "data": {
      "image/png": "[encoded data removed]",
      "text/plain": [
       "<Figure size 432x288 with 1 Axes>"
      ]
     },
     "metadata": {
      "needs_background": "light"
     },
     "output_type": "display_data"
    }
   ],
   "source": [
    "# histogram\n",
    "plt.hist(cust_pf.tran_prod_paid_amt, bins='auto')"
   ]
  },
  {
   "cell_type": "code",
   "execution_count": 11,
   "metadata": {},
   "outputs": [
    {
     "data": {
      "text/plain": [
       "62211787.76999934"
      ]
     },
     "execution_count": 11,
     "metadata": {},
     "output_type": "execute_result"
    }
   ],
   "source": [
    "# Total amount paid\n",
    "cust_pf.tran_prod_paid_amt.sum()"
   ]
  },
  {
   "cell_type": "code",
   "execution_count": 12,
   "metadata": {},
   "outputs": [
    {
     "data": {
      "text/plain": [
       "<matplotlib.axes._subplots.AxesSubplot at 0x2145afa5be0>"
      ]
     },
     "execution_count": 12,
     "metadata": {},
     "output_type": "execute_result"
    },
    {
     "data": {
      "image/png": "[encoded data removed]",
      "text/plain": [
       "<Figure size 432x288 with 1 Axes>"
      ]
     },
     "metadata": {
      "needs_background": "light"
     },
     "output_type": "display_data"
    }
   ],
   "source": [
    "# accumulate plot\n",
    "cust_pf.tran_prod_paid_amt.cumsum().plot()"
   ]
  },
  {
   "cell_type": "code",
   "execution_count": 13,
   "metadata": {
    "scrolled": true
   },
   "outputs": [
    {
     "data": {
      "text/plain": [
       "7920"
      ]
     },
     "execution_count": 13,
     "metadata": {},
     "output_type": "execute_result"
    }
   ],
   "source": [
    "# Number of customers\n",
    "len(transactions.cust_id.unique())"
   ]
  },
  {
   "cell_type": "markdown",
   "metadata": {},
   "source": [
    "## Store"
   ]
  },
  {
   "cell_type": "markdown",
   "metadata": {},
   "source": [
    "### Store and amount (transactions, revenue, discounts)"
   ]
  },
  {
   "cell_type": "code",
   "execution_count": 162,
   "metadata": {},
   "outputs": [],
   "source": [
    "store_pf = transactions.groupby(['store_id']).tran_prod_paid_amt.sum().sort_values(ascending = False)"
   ]
  },
  {
   "cell_type": "code",
   "execution_count": 165,
   "metadata": {},
   "outputs": [
    {
     "data": {
      "text/plain": [
       "(array([17., 17., 30., 71., 76., 52., 41., 27., 27., 13., 15.,  7.,  6.,\n",
       "         4.,  3.,  2.,  1.,  2.,  0.,  1.,  0.,  0.,  2.,  2.,  1.,  1.,\n",
       "         0.,  1.,  0.,  1.,  0.,  1.]),\n",
       " array([     4.15      ,  24582.79999999,  49161.44999998,  73740.09999998,\n",
       "         98318.74999997, 122897.39999996, 147476.04999995, 172054.69999995,\n",
       "        196633.34999994, 221211.99999993, 245790.64999992, 270369.29999991,\n",
       "        294947.94999991, 319526.5999999 , 344105.24999989, 368683.89999988,\n",
       "        393262.54999988, 417841.19999987, 442419.84999986, 466998.49999985,\n",
       "        491577.14999984, 516155.79999984, 540734.44999983, 565313.09999982,\n",
       "        589891.74999981, 614470.39999981, 639049.0499998 , 663627.69999979,\n",
       "        688206.34999978, 712784.99999977, 737363.64999977, 761942.29999976,\n",
       "        786520.94999975]),\n",
       " <a list of 32 Patch objects>)"
      ]
     },
     "execution_count": 165,
     "metadata": {},
     "output_type": "execute_result"
    },
    {
     "data": {
      "image/png": "[encoded data removed]",
      "text/plain": [
       "<Figure size 432x288 with 1 Axes>"
      ]
     },
     "metadata": {
      "needs_background": "light"
     },
     "output_type": "display_data"
    }
   ],
   "source": [
    "# histogram\n",
    "# store_pf\n",
    "plt.hist(store_pf, bins='auto')"
   ]
  },
  {
   "cell_type": "code",
   "execution_count": 15,
   "metadata": {},
   "outputs": [],
   "source": [
    "# Total amount paid by store\n",
    "store_amt = transactions.groupby('store_id').agg({'tran_prod_paid_amt': 'sum', 'tran_prod_discount_amt': 'sum', 'tran_prod_sale_amt':'sum', 'tran': 'nunique'}).sort_values(by = 'tran_prod_paid_amt', ascending = False).reset_index()"
   ]
  },
  {
   "cell_type": "code",
   "execution_count": 16,
   "metadata": {},
   "outputs": [],
   "source": [
    "# Calculate percentage of discount\n",
    "store_amt['tran_prod_discount_amt'] = -store_amt['tran_prod_discount_amt'] \n",
    "store_amt['dist_amt'] = store_amt['tran_prod_discount_amt']/store_amt['tran_prod_sale_amt']\n",
    "\n",
    "pd.set_option('display.float_format', lambda x: '%.4f' % x)"
   ]
  },
  {
   "cell_type": "markdown",
   "metadata": {},
   "source": [
    "### Store and date"
   ]
  },
  {
   "cell_type": "code",
   "execution_count": 17,
   "metadata": {},
   "outputs": [],
   "source": [
    "store_dt = transactions.groupby('store_id').agg({'tran_dt':['min', 'max']}).reset_index()\n",
    "store_dt.columns = ['store_id', 'dt_min', 'dt_max']"
   ]
  },
  {
   "cell_type": "code",
   "execution_count": 19,
   "metadata": {},
   "outputs": [],
   "source": [
    "# Calculate store duraction\n",
    "store_dt['duration'] = store_dt['dt_max'] - store_dt['dt_min']"
   ]
  },
  {
   "cell_type": "markdown",
   "metadata": {},
   "source": [
    "### Store and products"
   ]
  },
  {
   "cell_type": "code",
   "execution_count": 22,
   "metadata": {},
   "outputs": [],
   "source": [
    "# Total number of products by store\n",
    "store_prod = transactions.groupby('store_id').agg({'prod_id':'nunique'}).sort_values(by = 'prod_id', ascending = False).reset_index()\n",
    "store_prod.columns = ['store_id', 'prod_num']"
   ]
  },
  {
   "cell_type": "markdown",
   "metadata": {},
   "source": [
    "### Store and customers"
   ]
  },
  {
   "cell_type": "code",
   "execution_count": 24,
   "metadata": {},
   "outputs": [],
   "source": [
    "# Total number of customers by store\n",
    "store_cust = transactions.groupby('store_id').agg({'cust_id':'nunique'}).sort_values(by = 'cust_id', ascending = False).reset_index()\n",
    "store_cust.columns = ['store_id', 'cust_num']"
   ]
  },
  {
   "cell_type": "markdown",
   "metadata": {},
   "source": [
    "### [Store concatenate]"
   ]
  },
  {
   "cell_type": "code",
   "execution_count": 26,
   "metadata": {},
   "outputs": [],
   "source": [
    "# Create a dataframe for all the store-related columns\n",
    "store_amt = store_amt.set_index('store_id')\n",
    "store_dt = store_dt.set_index('store_id')\n",
    "store_prod = store_prod.set_index('store_id')\n",
    "store_cust = store_cust.set_index('store_id')\n",
    "store_info = pd.concat([store_amt, store_dt, store_prod, store_cust], axis = 1)"
   ]
  },
  {
   "cell_type": "code",
   "execution_count": 201,
   "metadata": {},
   "outputs": [
    {
     "data": {
      "text/html": [
       "<div>\n",
       "<style scoped>\n",
       "    .dataframe tbody tr th:only-of-type {\n",
       "        vertical-align: middle;\n",
       "    }\n",
       "\n",
       "    .dataframe tbody tr th {\n",
       "        vertical-align: top;\n",
       "    }\n",
       "\n",
       "    .dataframe thead th {\n",
       "        text-align: right;\n",
       "    }\n",
       "</style>\n",
       "<table border=\"1\" class=\"dataframe\">\n",
       "  <thead>\n",
       "    <tr style=\"text-align: right;\">\n",
       "      <th></th>\n",
       "      <th>tran_prod_paid_amt</th>\n",
       "      <th>tran_prod_discount_amt</th>\n",
       "      <th>tran_prod_sale_amt</th>\n",
       "      <th>dist_amt</th>\n",
       "      <th>group</th>\n",
       "      <th>prod_num</th>\n",
       "      <th>cust_num</th>\n",
       "    </tr>\n",
       "  </thead>\n",
       "  <tbody>\n",
       "    <tr>\n",
       "      <th>tran_prod_paid_amt</th>\n",
       "      <td>1.0000</td>\n",
       "      <td>0.9780</td>\n",
       "      <td>0.9993</td>\n",
       "      <td>0.2229</td>\n",
       "      <td>-0.7680</td>\n",
       "      <td>0.7977</td>\n",
       "      <td>0.6753</td>\n",
       "    </tr>\n",
       "    <tr>\n",
       "      <th>tran_prod_discount_amt</th>\n",
       "      <td>0.9780</td>\n",
       "      <td>1.0000</td>\n",
       "      <td>0.9852</td>\n",
       "      <td>0.3374</td>\n",
       "      <td>-0.6994</td>\n",
       "      <td>0.7554</td>\n",
       "      <td>0.6732</td>\n",
       "    </tr>\n",
       "    <tr>\n",
       "      <th>tran_prod_sale_amt</th>\n",
       "      <td>0.9993</td>\n",
       "      <td>0.9852</td>\n",
       "      <td>1.0000</td>\n",
       "      <td>0.2444</td>\n",
       "      <td>-0.7580</td>\n",
       "      <td>0.7927</td>\n",
       "      <td>0.6771</td>\n",
       "    </tr>\n",
       "    <tr>\n",
       "      <th>dist_amt</th>\n",
       "      <td>0.2229</td>\n",
       "      <td>0.3374</td>\n",
       "      <td>0.2444</td>\n",
       "      <td>1.0000</td>\n",
       "      <td>-0.1401</td>\n",
       "      <td>0.2958</td>\n",
       "      <td>0.0881</td>\n",
       "    </tr>\n",
       "    <tr>\n",
       "      <th>group</th>\n",
       "      <td>-0.7680</td>\n",
       "      <td>-0.6994</td>\n",
       "      <td>-0.7580</td>\n",
       "      <td>-0.1401</td>\n",
       "      <td>1.0000</td>\n",
       "      <td>-0.8030</td>\n",
       "      <td>-0.4155</td>\n",
       "    </tr>\n",
       "    <tr>\n",
       "      <th>prod_num</th>\n",
       "      <td>0.7977</td>\n",
       "      <td>0.7554</td>\n",
       "      <td>0.7927</td>\n",
       "      <td>0.2958</td>\n",
       "      <td>-0.8030</td>\n",
       "      <td>1.0000</td>\n",
       "      <td>0.5208</td>\n",
       "    </tr>\n",
       "    <tr>\n",
       "      <th>cust_num</th>\n",
       "      <td>0.6753</td>\n",
       "      <td>0.6732</td>\n",
       "      <td>0.6771</td>\n",
       "      <td>0.0881</td>\n",
       "      <td>-0.4155</td>\n",
       "      <td>0.5208</td>\n",
       "      <td>1.0000</td>\n",
       "    </tr>\n",
       "  </tbody>\n",
       "</table>\n",
       "</div>"
      ],
      "text/plain": [
       "                        tran_prod_paid_amt  tran_prod_discount_amt  \\\n",
       "tran_prod_paid_amt                  1.0000                  0.9780   \n",
       "tran_prod_discount_amt              0.9780                  1.0000   \n",
       "tran_prod_sale_amt                  0.9993                  0.9852   \n",
       "dist_amt                            0.2229                  0.3374   \n",
       "group                              -0.7680                 -0.6994   \n",
       "prod_num                            0.7977                  0.7554   \n",
       "cust_num                            0.6753                  0.6732   \n",
       "\n",
       "                        tran_prod_sale_amt  dist_amt   group  prod_num  \\\n",
       "tran_prod_paid_amt                  0.9993    0.2229 -0.7680    0.7977   \n",
       "tran_prod_discount_amt              0.9852    0.3374 -0.6994    0.7554   \n",
       "tran_prod_sale_amt                  1.0000    0.2444 -0.7580    0.7927   \n",
       "dist_amt                            0.2444    1.0000 -0.1401    0.2958   \n",
       "group                              -0.7580   -0.1401  1.0000   -0.8030   \n",
       "prod_num                            0.7927    0.2958 -0.8030    1.0000   \n",
       "cust_num                            0.6771    0.0881 -0.4155    0.5208   \n",
       "\n",
       "                        cust_num  \n",
       "tran_prod_paid_amt        0.6753  \n",
       "tran_prod_discount_amt    0.6732  \n",
       "tran_prod_sale_amt        0.6771  \n",
       "dist_amt                  0.0881  \n",
       "group                    -0.4155  \n",
       "prod_num                  0.5208  \n",
       "cust_num                  1.0000  "
      ]
     },
     "execution_count": 201,
     "metadata": {},
     "output_type": "execute_result"
    }
   ],
   "source": [
    "# Calculate the correlation among those variables\n",
    "store_info.corr()"
   ]
  },
  {
   "cell_type": "markdown",
   "metadata": {},
   "source": [
    "### Store and loyal customer"
   ]
  },
  {
   "cell_type": "code",
   "execution_count": 33,
   "metadata": {},
   "outputs": [],
   "source": [
    "cust_freq = transactions.groupby('cust_id').agg({'tran_dt': 'nunique'}).sort_values(by = 'tran_dt', ascending = False).reset_index()"
   ]
  },
  {
   "cell_type": "code",
   "execution_count": 35,
   "metadata": {},
   "outputs": [],
   "source": [
    "# every store calculate number of customers who visited 50/100/350/600 times\n",
    "\n",
    "for i in store_info.index:\n",
    "    t = transactions.loc[transactions.store_id == i, ]\n",
    "    t = t.groupby('cust_id').tran_dt.nunique()\n",
    "    store_info.loc[store_info.index == i, 'cust_50'] = len(t[t>=50])/len(t)\n",
    "    store_info.loc[store_info.index == i, 'cust_100'] = len(t[t>=100])/len(t)\n",
    "    store_info.loc[store_info.index == i, 'cust_350'] = len(t[t>=350])/len(t)\n",
    "    store_info.loc[store_info.index == i, 'cust_600'] = len(t[t>=600])/len(t)"
   ]
  },
  {
   "cell_type": "markdown",
   "metadata": {},
   "source": [
    "### Store and weekdays/weekends"
   ]
  },
  {
   "cell_type": "code",
   "execution_count": 38,
   "metadata": {},
   "outputs": [],
   "source": [
    "from datetime import date\n",
    "\n",
    "t = transactions.loc[transactions.weekend == 1, ].copy()\n",
    "t = t.groupby(['store_id']).agg({'tran_prod_sale_amt':'sum', 'tran':'nunique'})\n",
    "t.rename(columns={'tran_prod_sale_amt':'wknd_sales', 'tran':'wknd_trans'}, inplace = True)"
   ]
  },
  {
   "cell_type": "code",
   "execution_count": 40,
   "metadata": {},
   "outputs": [],
   "source": [
    "store_info = pd.concat([store_info, t], axis = 1)"
   ]
  },
  {
   "cell_type": "code",
   "execution_count": 42,
   "metadata": {},
   "outputs": [],
   "source": [
    "# Calcuate weekend sales and weekend transactions percentage\n",
    "store_info['wknd_sales'] = store_info['wknd_sales']/store_info['tran_prod_sale_amt']\n",
    "store_info['wknd_trans'] = store_info['wknd_trans']/store_info['tran']"
   ]
  },
  {
   "cell_type": "markdown",
   "metadata": {},
   "source": [
    "### Original Grouping\n",
    "#### store: 0: medium, 1: very loyal, 2: wide customer, 3: bad; \n",
    "#### cust: 0: cherry picker, 1: loyal, not price sensitive, 2: weekend driven, 3: large purchase\n"
   ]
  },
  {
   "cell_type": "code",
   "execution_count": 64,
   "metadata": {},
   "outputs": [],
   "source": [
    "# Include customer lables\n",
    "cust_label = pd.read_csv('cust_label.csv')\n",
    "cust_label = cust_label[['labels', 'cust_id']]\n",
    "cust_label.columns = ['cust_labels', 'cust_id']"
   ]
  },
  {
   "cell_type": "code",
   "execution_count": 72,
   "metadata": {},
   "outputs": [],
   "source": [
    "# Combine customer and store data\n",
    "store_cust = transactions[['store_id', 'cust_id', 'tran']].drop_duplicates()\n",
    "store_cust = pd.merge(store_cust, cust_label, on = 'cust_id')\n",
    "store_cust = store_cust.groupby(['store_id', 'cust_labels']).tran.nunique().reset_index()\n",
    "store_tran = store_cust.groupby('store_id').tran.sum().reset_index()\n",
    "\n",
    "store_cust = pd.merge(store_cust, store_tran, on = 'store_id')"
   ]
  },
  {
   "cell_type": "code",
   "execution_count": 87,
   "metadata": {},
   "outputs": [],
   "source": [
    "# Unstack the data\n",
    "store_cust_unstack = store_cust.set_index(['store_id', 'cust_labels'])\n",
    "store_cust_unstack = store_cust_unstack.unstack()\n",
    "store_cust_unstack.columns = ['cust_label_0', 'cust_label_1', 'cust_label_2', 'cust_label_3']\n",
    "store_cust_unstack.fillna(0, inplace = True)"
   ]
  },
  {
   "cell_type": "code",
   "execution_count": 95,
   "metadata": {},
   "outputs": [],
   "source": [
    "# Combine all the features into a big table\n",
    "export = store_info[['cust_num', 'tran', 'cust_50', 'cust_100', 'cust_350', 'tran_prod_sale_amt', 'wknd_sales',\\\n",
    "                     'wknd_trans']].copy()\n",
    "export = pd.concat([export, store_cust_unstack], axis = 1)\n",
    "export.dropna(inplace = True)"
   ]
  },
  {
   "cell_type": "code",
   "execution_count": 100,
   "metadata": {},
   "outputs": [],
   "source": [
    "# Export the data\n",
    "export.to_csv('stores_test.csv')"
   ]
  }
 ],
 "metadata": {
  "kernelspec": {
   "display_name": "Python 3",
   "language": "python",
   "name": "python3"
  },
  "language_info": {
   "codemirror_mode": {
    "name": "ipython",
    "version": 3
   },
   "file_extension": ".py",
   "mimetype": "text/x-python",
   "name": "python",
   "nbconvert_exporter": "python",
   "pygments_lexer": "ipython3",
   "version": "3.7.1"
  }
 },
 "nbformat": 4,
 "nbformat_minor": 2
}
